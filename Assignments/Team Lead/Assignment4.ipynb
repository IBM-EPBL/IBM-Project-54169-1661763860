{
 "cells": [
  {
   "cell_type": "markdown",
   "id": "170a6257",
   "metadata": {},
   "source": [
    "# Importing Necessary Packages"
   ]
  },
  {
   "cell_type": "code",
   "execution_count": 1,
   "id": "b55377e6",
   "metadata": {},
   "outputs": [],
   "source": [
    "import numpy as np\n",
    "import pandas as pd\n",
    "import matplotlib.pyplot as plt\n",
    "import seaborn as sns\n",
    "from matplotlib import rcParams"
   ]
  },
  {
   "cell_type": "markdown",
   "id": "abc7c4bf",
   "metadata": {},
   "source": [
    "# 2)Loading the Dataset"
   ]
  },
  {
   "cell_type": "code",
   "execution_count": 2,
   "id": "3bc7e7b4",
   "metadata": {},
   "outputs": [
    {
     "data": {
      "text/html": [
       "<div>\n",
       "<style scoped>\n",
       "    .dataframe tbody tr th:only-of-type {\n",
       "        vertical-align: middle;\n",
       "    }\n",
       "\n",
       "    .dataframe tbody tr th {\n",
       "        vertical-align: top;\n",
       "    }\n",
       "\n",
       "    .dataframe thead th {\n",
       "        text-align: right;\n",
       "    }\n",
       "</style>\n",
       "<table border=\"1\" class=\"dataframe\">\n",
       "  <thead>\n",
       "    <tr style=\"text-align: right;\">\n",
       "      <th></th>\n",
       "      <th>Gender</th>\n",
       "      <th>Age</th>\n",
       "      <th>Annual Income (k$)</th>\n",
       "      <th>Spending Score (1-100)</th>\n",
       "    </tr>\n",
       "  </thead>\n",
       "  <tbody>\n",
       "    <tr>\n",
       "      <th>0</th>\n",
       "      <td>Male</td>\n",
       "      <td>19</td>\n",
       "      <td>15</td>\n",
       "      <td>39</td>\n",
       "    </tr>\n",
       "    <tr>\n",
       "      <th>1</th>\n",
       "      <td>Male</td>\n",
       "      <td>21</td>\n",
       "      <td>15</td>\n",
       "      <td>81</td>\n",
       "    </tr>\n",
       "    <tr>\n",
       "      <th>2</th>\n",
       "      <td>Female</td>\n",
       "      <td>20</td>\n",
       "      <td>16</td>\n",
       "      <td>6</td>\n",
       "    </tr>\n",
       "    <tr>\n",
       "      <th>3</th>\n",
       "      <td>Female</td>\n",
       "      <td>23</td>\n",
       "      <td>16</td>\n",
       "      <td>77</td>\n",
       "    </tr>\n",
       "    <tr>\n",
       "      <th>4</th>\n",
       "      <td>Female</td>\n",
       "      <td>31</td>\n",
       "      <td>17</td>\n",
       "      <td>40</td>\n",
       "    </tr>\n",
       "  </tbody>\n",
       "</table>\n",
       "</div>"
      ],
      "text/plain": [
       "   Gender  Age  Annual Income (k$)  Spending Score (1-100)\n",
       "0    Male   19                  15                      39\n",
       "1    Male   21                  15                      81\n",
       "2  Female   20                  16                       6\n",
       "3  Female   23                  16                      77\n",
       "4  Female   31                  17                      40"
      ]
     },
     "execution_count": 2,
     "metadata": {},
     "output_type": "execute_result"
    }
   ],
   "source": [
    "df=pd.read_csv('Mall_Customers.csv')\n",
    "df=df.iloc[:,1:]\n",
    "df.head()"
   ]
  },
  {
   "cell_type": "code",
   "execution_count": 3,
   "id": "ea24ae0b",
   "metadata": {},
   "outputs": [
    {
     "data": {
      "text/plain": [
       "(200, 4)"
      ]
     },
     "execution_count": 3,
     "metadata": {},
     "output_type": "execute_result"
    }
   ],
   "source": [
    "df.shape"
   ]
  },
  {
   "cell_type": "markdown",
   "id": "9248cedd",
   "metadata": {},
   "source": [
    "# 3)Visualization"
   ]
  },
  {
   "cell_type": "markdown",
   "id": "febf857b",
   "metadata": {},
   "source": [
    "# a)Univariate Analysis"
   ]
  },
  {
   "cell_type": "code",
   "execution_count": 4,
   "id": "1ee85edb",
   "metadata": {
    "scrolled": true
   },
   "outputs": [
    {
     "data": {
      "text/plain": [
       "<AxesSubplot:>"
      ]
     },
     "execution_count": 4,
     "metadata": {},
     "output_type": "execute_result"
    },
    {
     "data": {
      "image/png": "[encoded data removed]",
      "text/plain": [
       "<Figure size 432x288 with 1 Axes>"
      ]
     },
     "metadata": {
      "needs_background": "light"
     },
     "output_type": "display_data"
    }
   ],
   "source": [
    "df.head(10).Age.plot()"
   ]
  },
  {
   "cell_type": "code",
   "execution_count": 5,
   "id": "2809f388",
   "metadata": {
    "scrolled": true
   },
   "outputs": [
    {
     "name": "stderr",
     "output_type": "stream",
     "text": [
      "C:\\ProgramData\\Anaconda3\\lib\\site-packages\\seaborn\\distributions.py:2619: FutureWarning: `distplot` is a deprecated function and will be removed in a future version. Please adapt your code to use either `displot` (a figure-level function with similar flexibility) or `histplot` (an axes-level function for histograms).\n",
      "  warnings.warn(msg, FutureWarning)\n"
     ]
    },
    {
     "data": {
      "image/png": "[encoded data removed]",
      "text/plain": [
       "<Figure size 432x288 with 1 Axes>"
      ]
     },
     "metadata": {
      "needs_background": "light"
     },
     "output_type": "display_data"
    },
    {
     "name": "stderr",
     "output_type": "stream",
     "text": [
      "C:\\ProgramData\\Anaconda3\\lib\\site-packages\\seaborn\\distributions.py:2619: FutureWarning: `distplot` is a deprecated function and will be removed in a future version. Please adapt your code to use either `displot` (a figure-level function with similar flexibility) or `histplot` (an axes-level function for histograms).\n",
      "  warnings.warn(msg, FutureWarning)\n"
     ]
    },
    {
     "data": {
      "image/png": "[encoded data removed]",
      "text/plain": [
       "<Figure size 432x288 with 1 Axes>"
      ]
     },
     "metadata": {
      "needs_background": "light"
     },
     "output_type": "display_data"
    },
    {
     "name": "stderr",
     "output_type": "stream",
     "text": [
      "C:\\ProgramData\\Anaconda3\\lib\\site-packages\\seaborn\\distributions.py:2619: FutureWarning: `distplot` is a deprecated function and will be removed in a future version. Please adapt your code to use either `displot` (a figure-level function with similar flexibility) or `histplot` (an axes-level function for histograms).\n",
      "  warnings.warn(msg, FutureWarning)\n"
     ]
    },
    {
     "data": {
      "image/png": "[encoded data removed]",
      "text/plain": [
       "<Figure size 432x288 with 1 Axes>"
      ]
     },
     "metadata": {
      "needs_background": "light"
     },
     "output_type": "display_data"
    }
   ],
   "source": [
    "for col in df.columns:\n",
    "    if df.dtypes[col]=='int64':\n",
    "        sns.distplot(df[col])\n",
    "        plt.show()"
   ]
  },
  {
   "cell_type": "markdown",
   "id": "bc641cf1",
   "metadata": {},
   "source": [
    "# b)Bivariate Analysis"
   ]
  },
  {
   "cell_type": "code",
   "execution_count": 6,
   "id": "80b42496",
   "metadata": {},
   "outputs": [
    {
     "name": "stderr",
     "output_type": "stream",
     "text": [
      "C:\\ProgramData\\Anaconda3\\lib\\site-packages\\seaborn\\_decorators.py:36: FutureWarning: Pass the following variables as keyword args: x, y. From version 0.12, the only valid positional argument will be `data`, and passing other arguments without an explicit keyword will result in an error or misinterpretation.\n",
      "  warnings.warn(\n"
     ]
    },
    {
     "data": {
      "image/png": "[encoded data removed]",
      "text/plain": [
       "<Figure size 432x432 with 3 Axes>"
      ]
     },
     "metadata": {
      "needs_background": "light"
     },
     "output_type": "display_data"
    },
    {
     "name": "stderr",
     "output_type": "stream",
     "text": [
      "C:\\ProgramData\\Anaconda3\\lib\\site-packages\\seaborn\\_decorators.py:36: FutureWarning: Pass the following variables as keyword args: x, y. From version 0.12, the only valid positional argument will be `data`, and passing other arguments without an explicit keyword will result in an error or misinterpretation.\n",
      "  warnings.warn(\n"
     ]
    },
    {
     "data": {
      "image/png": "[encoded data removed]",
      "text/plain": [
       "<Figure size 432x432 with 3 Axes>"
      ]
     },
     "metadata": {
      "needs_background": "light"
     },
     "output_type": "display_data"
    },
    {
     "name": "stderr",
     "output_type": "stream",
     "text": [
      "C:\\ProgramData\\Anaconda3\\lib\\site-packages\\seaborn\\_decorators.py:36: FutureWarning: Pass the following variables as keyword args: x, y. From version 0.12, the only valid positional argument will be `data`, and passing other arguments without an explicit keyword will result in an error or misinterpretation.\n",
      "  warnings.warn(\n"
     ]
    },
    {
     "data": {
      "image/png": "[encoded data removed]",
      "text/plain": [
       "<Figure size 432x432 with 3 Axes>"
      ]
     },
     "metadata": {
      "needs_background": "light"
     },
     "output_type": "display_data"
    },
    {
     "name": "stderr",
     "output_type": "stream",
     "text": [
      "C:\\ProgramData\\Anaconda3\\lib\\site-packages\\seaborn\\_decorators.py:36: FutureWarning: Pass the following variables as keyword args: x, y. From version 0.12, the only valid positional argument will be `data`, and passing other arguments without an explicit keyword will result in an error or misinterpretation.\n",
      "  warnings.warn(\n"
     ]
    },
    {
     "data": {
      "image/png": "[encoded data removed]",
      "text/plain": [
       "<Figure size 432x432 with 3 Axes>"
      ]
     },
     "metadata": {
      "needs_background": "light"
     },
     "output_type": "display_data"
    },
    {
     "name": "stderr",
     "output_type": "stream",
     "text": [
      "C:\\ProgramData\\Anaconda3\\lib\\site-packages\\seaborn\\_decorators.py:36: FutureWarning: Pass the following variables as keyword args: x, y. From version 0.12, the only valid positional argument will be `data`, and passing other arguments without an explicit keyword will result in an error or misinterpretation.\n",
      "  warnings.warn(\n"
     ]
    },
    {
     "data": {
      "image/png": "[encoded data removed]",
      "text/plain": [
       "<Figure size 432x432 with 3 Axes>"
      ]
     },
     "metadata": {
      "needs_background": "light"
     },
     "output_type": "display_data"
    },
    {
     "name": "stderr",
     "output_type": "stream",
     "text": [
      "C:\\ProgramData\\Anaconda3\\lib\\site-packages\\seaborn\\_decorators.py:36: FutureWarning: Pass the following variables as keyword args: x, y. From version 0.12, the only valid positional argument will be `data`, and passing other arguments without an explicit keyword will result in an error or misinterpretation.\n",
      "  warnings.warn(\n"
     ]
    },
    {
     "data": {
      "image/png": "[encoded data removed]",
      "text/plain": [
       "<Figure size 432x432 with 3 Axes>"
      ]
     },
     "metadata": {
      "needs_background": "light"
     },
     "output_type": "display_data"
    },
    {
     "name": "stderr",
     "output_type": "stream",
     "text": [
      "C:\\ProgramData\\Anaconda3\\lib\\site-packages\\seaborn\\_decorators.py:36: FutureWarning: Pass the following variables as keyword args: x, y. From version 0.12, the only valid positional argument will be `data`, and passing other arguments without an explicit keyword will result in an error or misinterpretation.\n",
      "  warnings.warn(\n"
     ]
    },
    {
     "data": {
      "image/png": "[encoded data removed]",
      "text/plain": [
       "<Figure size 432x432 with 3 Axes>"
      ]
     },
     "metadata": {
      "needs_background": "light"
     },
     "output_type": "display_data"
    },
    {
     "name": "stderr",
     "output_type": "stream",
     "text": [
      "C:\\ProgramData\\Anaconda3\\lib\\site-packages\\seaborn\\_decorators.py:36: FutureWarning: Pass the following variables as keyword args: x, y. From version 0.12, the only valid positional argument will be `data`, and passing other arguments without an explicit keyword will result in an error or misinterpretation.\n",
      "  warnings.warn(\n"
     ]
    },
    {
     "data": {
      "image/png": "[encoded data removed]",
      "text/plain": [
       "<Figure size 432x432 with 3 Axes>"
      ]
     },
     "metadata": {
      "needs_background": "light"
     },
     "output_type": "display_data"
    },
    {
     "name": "stderr",
     "output_type": "stream",
     "text": [
      "C:\\ProgramData\\Anaconda3\\lib\\site-packages\\seaborn\\_decorators.py:36: FutureWarning: Pass the following variables as keyword args: x, y. From version 0.12, the only valid positional argument will be `data`, and passing other arguments without an explicit keyword will result in an error or misinterpretation.\n",
      "  warnings.warn(\n"
     ]
    },
    {
     "data": {
      "image/png": "[encoded data removed]",
      "text/plain": [
       "<Figure size 432x432 with 3 Axes>"
      ]
     },
     "metadata": {
      "needs_background": "light"
     },
     "output_type": "display_data"
    }
   ],
   "source": [
    "for col in df.columns:\n",
    "    for col1 in df.columns:\n",
    "        if df.dtypes[col]=='int64':\n",
    "            if df.dtypes[col1]=='int64':\n",
    "                sns.jointplot(df[col],df[col1])\n",
    "                plt.show()"
   ]
  },
  {
   "cell_type": "markdown",
   "id": "29d34d7b",
   "metadata": {},
   "source": [
    "# c)Multivariate Analysis"
   ]
  },
  {
   "cell_type": "code",
   "execution_count": 7,
   "id": "9e4f4dac",
   "metadata": {},
   "outputs": [
    {
     "data": {
      "text/plain": [
       "<AxesSubplot:>"
      ]
     },
     "execution_count": 7,
     "metadata": {},
     "output_type": "execute_result"
    },
    {
     "data": {
      "image/png": "[encoded data removed]",
      "text/plain": [
       "<Figure size 432x288 with 1 Axes>"
      ]
     },
     "metadata": {
      "needs_background": "light"
     },
     "output_type": "display_data"
    }
   ],
   "source": [
    "df.head(10).plot()"
   ]
  },
  {
   "cell_type": "code",
   "execution_count": 8,
   "id": "f9cb3046",
   "metadata": {},
   "outputs": [
    {
     "data": {
      "text/plain": [
       "<seaborn.axisgrid.PairGrid at 0x23770801670>"
      ]
     },
     "execution_count": 8,
     "metadata": {},
     "output_type": "execute_result"
    },
    {
     "data": {
      "image/png": "[encoded data removed]",
      "text/plain": [
       "<Figure size 540x540 with 12 Axes>"
      ]
     },
     "metadata": {
      "needs_background": "light"
     },
     "output_type": "display_data"
    }
   ],
   "source": [
    "sns.pairplot(df)"
   ]
  },
  {
   "cell_type": "markdown",
   "id": "4315ddc3",
   "metadata": {},
   "source": [
    "# 4)Descriptive Statistics"
   ]
  },
  {
   "cell_type": "code",
   "execution_count": 9,
   "id": "3ca44ac5",
   "metadata": {},
   "outputs": [
    {
     "data": {
      "text/html": [
       "<div>\n",
       "<style scoped>\n",
       "    .dataframe tbody tr th:only-of-type {\n",
       "        vertical-align: middle;\n",
       "    }\n",
       "\n",
       "    .dataframe tbody tr th {\n",
       "        vertical-align: top;\n",
       "    }\n",
       "\n",
       "    .dataframe thead th {\n",
       "        text-align: right;\n",
       "    }\n",
       "</style>\n",
       "<table border=\"1\" class=\"dataframe\">\n",
       "  <thead>\n",
       "    <tr style=\"text-align: right;\">\n",
       "      <th></th>\n",
       "      <th>Age</th>\n",
       "      <th>Annual Income (k$)</th>\n",
       "      <th>Spending Score (1-100)</th>\n",
       "    </tr>\n",
       "  </thead>\n",
       "  <tbody>\n",
       "    <tr>\n",
       "      <th>count</th>\n",
       "      <td>200.000000</td>\n",
       "      <td>200.000000</td>\n",
       "      <td>200.000000</td>\n",
       "    </tr>\n",
       "    <tr>\n",
       "      <th>mean</th>\n",
       "      <td>38.850000</td>\n",
       "      <td>60.560000</td>\n",
       "      <td>50.200000</td>\n",
       "    </tr>\n",
       "    <tr>\n",
       "      <th>std</th>\n",
       "      <td>13.969007</td>\n",
       "      <td>26.264721</td>\n",
       "      <td>25.823522</td>\n",
       "    </tr>\n",
       "    <tr>\n",
       "      <th>min</th>\n",
       "      <td>18.000000</td>\n",
       "      <td>15.000000</td>\n",
       "      <td>1.000000</td>\n",
       "    </tr>\n",
       "    <tr>\n",
       "      <th>25%</th>\n",
       "      <td>28.750000</td>\n",
       "      <td>41.500000</td>\n",
       "      <td>34.750000</td>\n",
       "    </tr>\n",
       "    <tr>\n",
       "      <th>50%</th>\n",
       "      <td>36.000000</td>\n",
       "      <td>61.500000</td>\n",
       "      <td>50.000000</td>\n",
       "    </tr>\n",
       "    <tr>\n",
       "      <th>75%</th>\n",
       "      <td>49.000000</td>\n",
       "      <td>78.000000</td>\n",
       "      <td>73.000000</td>\n",
       "    </tr>\n",
       "    <tr>\n",
       "      <th>max</th>\n",
       "      <td>70.000000</td>\n",
       "      <td>137.000000</td>\n",
       "      <td>99.000000</td>\n",
       "    </tr>\n",
       "  </tbody>\n",
       "</table>\n",
       "</div>"
      ],
      "text/plain": [
       "              Age  Annual Income (k$)  Spending Score (1-100)\n",
       "count  200.000000          200.000000              200.000000\n",
       "mean    38.850000           60.560000               50.200000\n",
       "std     13.969007           26.264721               25.823522\n",
       "min     18.000000           15.000000                1.000000\n",
       "25%     28.750000           41.500000               34.750000\n",
       "50%     36.000000           61.500000               50.000000\n",
       "75%     49.000000           78.000000               73.000000\n",
       "max     70.000000          137.000000               99.000000"
      ]
     },
     "execution_count": 9,
     "metadata": {},
     "output_type": "execute_result"
    }
   ],
   "source": [
    "df.describe()"
   ]
  },
  {
   "cell_type": "markdown",
   "id": "d194b362",
   "metadata": {},
   "source": [
    "# 5)Handling Missing Values"
   ]
  },
  {
   "cell_type": "code",
   "execution_count": 10,
   "id": "116d0c02",
   "metadata": {},
   "outputs": [
    {
     "data": {
      "text/plain": [
       "Gender                    False\n",
       "Age                       False\n",
       "Annual Income (k$)        False\n",
       "Spending Score (1-100)    False\n",
       "dtype: bool"
      ]
     },
     "execution_count": 10,
     "metadata": {},
     "output_type": "execute_result"
    }
   ],
   "source": [
    "df.isnull().any()"
   ]
  },
  {
   "cell_type": "code",
   "execution_count": 11,
   "id": "8845afef",
   "metadata": {},
   "outputs": [
    {
     "data": {
      "text/plain": [
       "Gender                    0\n",
       "Age                       0\n",
       "Annual Income (k$)        0\n",
       "Spending Score (1-100)    0\n",
       "dtype: int64"
      ]
     },
     "execution_count": 11,
     "metadata": {},
     "output_type": "execute_result"
    }
   ],
   "source": [
    "df.isnull().sum()"
   ]
  },
  {
   "cell_type": "code",
   "execution_count": 12,
   "id": "ebd6b4ed",
   "metadata": {},
   "outputs": [],
   "source": [
    "# No null values found,so ne need for replacement"
   ]
  },
  {
   "cell_type": "markdown",
   "id": "4d7a1d80",
   "metadata": {},
   "source": [
    "# 6)Finding the outliers and replacing them"
   ]
  },
  {
   "cell_type": "code",
   "execution_count": 13,
   "id": "188cc0d7",
   "metadata": {},
   "outputs": [
    {
     "name": "stderr",
     "output_type": "stream",
     "text": [
      "C:\\ProgramData\\Anaconda3\\lib\\site-packages\\seaborn\\_decorators.py:36: FutureWarning: Pass the following variable as a keyword arg: x. From version 0.12, the only valid positional argument will be `data`, and passing other arguments without an explicit keyword will result in an error or misinterpretation.\n",
      "  warnings.warn(\n"
     ]
    },
    {
     "data": {
      "image/png": "[encoded data removed]",
      "text/plain": [
       "<Figure size 432x288 with 1 Axes>"
      ]
     },
     "metadata": {
      "needs_background": "light"
     },
     "output_type": "display_data"
    },
    {
     "name": "stderr",
     "output_type": "stream",
     "text": [
      "C:\\ProgramData\\Anaconda3\\lib\\site-packages\\seaborn\\_decorators.py:36: FutureWarning: Pass the following variable as a keyword arg: x. From version 0.12, the only valid positional argument will be `data`, and passing other arguments without an explicit keyword will result in an error or misinterpretation.\n",
      "  warnings.warn(\n"
     ]
    },
    {
     "data": {
      "image/png": "[encoded data removed]",
      "text/plain": [
       "<Figure size 432x288 with 1 Axes>"
      ]
     },
     "metadata": {
      "needs_background": "light"
     },
     "output_type": "display_data"
    },
    {
     "name": "stderr",
     "output_type": "stream",
     "text": [
      "C:\\ProgramData\\Anaconda3\\lib\\site-packages\\seaborn\\_decorators.py:36: FutureWarning: Pass the following variable as a keyword arg: x. From version 0.12, the only valid positional argument will be `data`, and passing other arguments without an explicit keyword will result in an error or misinterpretation.\n",
      "  warnings.warn(\n"
     ]
    },
    {
     "data": {
      "image/png": "[encoded data removed]",
      "text/plain": [
       "<Figure size 432x288 with 1 Axes>"
      ]
     },
     "metadata": {
      "needs_background": "light"
     },
     "output_type": "display_data"
    }
   ],
   "source": [
    "for col in df.columns:\n",
    "    if df.dtypes[col]=='int64':\n",
    "        sns.boxplot(df[col])\n",
    "        plt.show()"
   ]
  },
  {
   "cell_type": "code",
   "execution_count": 14,
   "id": "90301658",
   "metadata": {},
   "outputs": [
    {
     "name": "stderr",
     "output_type": "stream",
     "text": [
      "C:\\Users\\crpri\\AppData\\Local\\Temp\\ipykernel_21048\\1792345916.py:1: FutureWarning: Dropping of nuisance columns in DataFrame reductions (with 'numeric_only=None') is deprecated; in a future version this will raise TypeError.  Select only valid columns before calling the reduction.\n",
      "  df.median() #to replace with median\n"
     ]
    },
    {
     "data": {
      "text/plain": [
       "Age                       36.0\n",
       "Annual Income (k$)        61.5\n",
       "Spending Score (1-100)    50.0\n",
       "dtype: float64"
      ]
     },
     "execution_count": 14,
     "metadata": {},
     "output_type": "execute_result"
    }
   ],
   "source": [
    "df.median() #to replace with median"
   ]
  },
  {
   "cell_type": "code",
   "execution_count": 15,
   "id": "de884812",
   "metadata": {},
   "outputs": [
    {
     "data": {
      "text/html": [
       "<div>\n",
       "<style scoped>\n",
       "    .dataframe tbody tr th:only-of-type {\n",
       "        vertical-align: middle;\n",
       "    }\n",
       "\n",
       "    .dataframe tbody tr th {\n",
       "        vertical-align: top;\n",
       "    }\n",
       "\n",
       "    .dataframe thead th {\n",
       "        text-align: right;\n",
       "    }\n",
       "</style>\n",
       "<table border=\"1\" class=\"dataframe\">\n",
       "  <thead>\n",
       "    <tr style=\"text-align: right;\">\n",
       "      <th></th>\n",
       "      <th>Gender</th>\n",
       "      <th>Age</th>\n",
       "      <th>Annual Income (k$)</th>\n",
       "      <th>Spending Score (1-100)</th>\n",
       "    </tr>\n",
       "  </thead>\n",
       "  <tbody>\n",
       "    <tr>\n",
       "      <th>0</th>\n",
       "      <td>Male</td>\n",
       "      <td>19</td>\n",
       "      <td>15.0</td>\n",
       "      <td>39</td>\n",
       "    </tr>\n",
       "    <tr>\n",
       "      <th>1</th>\n",
       "      <td>Male</td>\n",
       "      <td>21</td>\n",
       "      <td>15.0</td>\n",
       "      <td>81</td>\n",
       "    </tr>\n",
       "    <tr>\n",
       "      <th>2</th>\n",
       "      <td>Female</td>\n",
       "      <td>20</td>\n",
       "      <td>16.0</td>\n",
       "      <td>6</td>\n",
       "    </tr>\n",
       "    <tr>\n",
       "      <th>3</th>\n",
       "      <td>Female</td>\n",
       "      <td>23</td>\n",
       "      <td>16.0</td>\n",
       "      <td>77</td>\n",
       "    </tr>\n",
       "    <tr>\n",
       "      <th>4</th>\n",
       "      <td>Female</td>\n",
       "      <td>31</td>\n",
       "      <td>17.0</td>\n",
       "      <td>40</td>\n",
       "    </tr>\n",
       "  </tbody>\n",
       "</table>\n",
       "</div>"
      ],
      "text/plain": [
       "   Gender  Age  Annual Income (k$)  Spending Score (1-100)\n",
       "0    Male   19                15.0                      39\n",
       "1    Male   21                15.0                      81\n",
       "2  Female   20                16.0                       6\n",
       "3  Female   23                16.0                      77\n",
       "4  Female   31                17.0                      40"
      ]
     },
     "execution_count": 15,
     "metadata": {},
     "output_type": "execute_result"
    }
   ],
   "source": [
    "AM=df.loc[df['Annual Income (k$)']>120,'Annual Income (k$)'].median()\n",
    "df.loc[df['Annual Income (k$)']>120,'Annual Income (k$)']=np.nan\n",
    "df.fillna(AM,inplace=True)\n",
    "df.head()"
   ]
  },
  {
   "cell_type": "code",
   "execution_count": 16,
   "id": "8f489b7c",
   "metadata": {},
   "outputs": [
    {
     "name": "stderr",
     "output_type": "stream",
     "text": [
      "C:\\ProgramData\\Anaconda3\\lib\\site-packages\\seaborn\\_decorators.py:36: FutureWarning: Pass the following variable as a keyword arg: x. From version 0.12, the only valid positional argument will be `data`, and passing other arguments without an explicit keyword will result in an error or misinterpretation.\n",
      "  warnings.warn(\n"
     ]
    },
    {
     "data": {
      "text/plain": [
       "<AxesSubplot:xlabel='Annual Income (k$)'>"
      ]
     },
     "execution_count": 16,
     "metadata": {},
     "output_type": "execute_result"
    },
    {
     "data": {
      "image/png": "[encoded data removed]",
      "text/plain": [
       "<Figure size 432x288 with 1 Axes>"
      ]
     },
     "metadata": {
      "needs_background": "light"
     },
     "output_type": "display_data"
    }
   ],
   "source": [
    "sns.boxplot(df['Annual Income (k$)'])"
   ]
  },
  {
   "cell_type": "markdown",
   "id": "793d1ceb",
   "metadata": {},
   "source": [
    "# 7)Encoding"
   ]
  },
  {
   "cell_type": "code",
   "execution_count": 17,
   "id": "53a1a35b",
   "metadata": {},
   "outputs": [],
   "source": [
    "from sklearn.preprocessing import LabelEncoder"
   ]
  },
  {
   "cell_type": "code",
   "execution_count": 18,
   "id": "d2033480",
   "metadata": {},
   "outputs": [],
   "source": [
    "le=LabelEncoder()"
   ]
  },
  {
   "cell_type": "code",
   "execution_count": 19,
   "id": "ee2e9e32",
   "metadata": {},
   "outputs": [],
   "source": [
    "df.Gender=le.fit_transform(df.Gender)"
   ]
  },
  {
   "cell_type": "code",
   "execution_count": 20,
   "id": "ec899adf",
   "metadata": {},
   "outputs": [
    {
     "data": {
      "text/html": [
       "<div>\n",
       "<style scoped>\n",
       "    .dataframe tbody tr th:only-of-type {\n",
       "        vertical-align: middle;\n",
       "    }\n",
       "\n",
       "    .dataframe tbody tr th {\n",
       "        vertical-align: top;\n",
       "    }\n",
       "\n",
       "    .dataframe thead th {\n",
       "        text-align: right;\n",
       "    }\n",
       "</style>\n",
       "<table border=\"1\" class=\"dataframe\">\n",
       "  <thead>\n",
       "    <tr style=\"text-align: right;\">\n",
       "      <th></th>\n",
       "      <th>Gender</th>\n",
       "      <th>Age</th>\n",
       "      <th>Annual Income (k$)</th>\n",
       "      <th>Spending Score (1-100)</th>\n",
       "    </tr>\n",
       "  </thead>\n",
       "  <tbody>\n",
       "    <tr>\n",
       "      <th>0</th>\n",
       "      <td>1</td>\n",
       "      <td>19</td>\n",
       "      <td>15.0</td>\n",
       "      <td>39</td>\n",
       "    </tr>\n",
       "    <tr>\n",
       "      <th>1</th>\n",
       "      <td>1</td>\n",
       "      <td>21</td>\n",
       "      <td>15.0</td>\n",
       "      <td>81</td>\n",
       "    </tr>\n",
       "    <tr>\n",
       "      <th>2</th>\n",
       "      <td>0</td>\n",
       "      <td>20</td>\n",
       "      <td>16.0</td>\n",
       "      <td>6</td>\n",
       "    </tr>\n",
       "    <tr>\n",
       "      <th>3</th>\n",
       "      <td>0</td>\n",
       "      <td>23</td>\n",
       "      <td>16.0</td>\n",
       "      <td>77</td>\n",
       "    </tr>\n",
       "    <tr>\n",
       "      <th>4</th>\n",
       "      <td>0</td>\n",
       "      <td>31</td>\n",
       "      <td>17.0</td>\n",
       "      <td>40</td>\n",
       "    </tr>\n",
       "  </tbody>\n",
       "</table>\n",
       "</div>"
      ],
      "text/plain": [
       "   Gender  Age  Annual Income (k$)  Spending Score (1-100)\n",
       "0       1   19                15.0                      39\n",
       "1       1   21                15.0                      81\n",
       "2       0   20                16.0                       6\n",
       "3       0   23                16.0                      77\n",
       "4       0   31                17.0                      40"
      ]
     },
     "execution_count": 20,
     "metadata": {},
     "output_type": "execute_result"
    }
   ],
   "source": [
    "df.head()"
   ]
  },
  {
   "cell_type": "markdown",
   "id": "2f253ffd",
   "metadata": {},
   "source": [
    "# 8)Scaling"
   ]
  },
  {
   "cell_type": "code",
   "execution_count": 21,
   "id": "c250d594",
   "metadata": {},
   "outputs": [
    {
     "data": {
      "text/plain": [
       "array([[1.        , 0.01923077, 0.        , 0.3877551 ],\n",
       "       [1.        , 0.05769231, 0.        , 0.81632653],\n",
       "       [0.        , 0.03846154, 0.00858369, 0.05102041],\n",
       "       [0.        , 0.09615385, 0.00858369, 0.7755102 ],\n",
       "       [0.        , 0.25      , 0.01716738, 0.39795918],\n",
       "       [0.        , 0.07692308, 0.01716738, 0.76530612],\n",
       "       [0.        , 0.32692308, 0.02575107, 0.05102041],\n",
       "       [0.        , 0.09615385, 0.02575107, 0.94897959],\n",
       "       [1.        , 0.88461538, 0.03433476, 0.02040816],\n",
       "       [0.        , 0.23076923, 0.03433476, 0.7244898 ],\n",
       "       [1.        , 0.94230769, 0.03433476, 0.13265306],\n",
       "       [0.        , 0.32692308, 0.03433476, 1.        ],\n",
       "       [0.        , 0.76923077, 0.04291845, 0.14285714],\n",
       "       [0.        , 0.11538462, 0.04291845, 0.7755102 ],\n",
       "       [1.        , 0.36538462, 0.04291845, 0.12244898],\n",
       "       [1.        , 0.07692308, 0.04291845, 0.79591837],\n",
       "       [0.        , 0.32692308, 0.05150215, 0.34693878],\n",
       "       [1.        , 0.03846154, 0.05150215, 0.66326531],\n",
       "       [1.        , 0.65384615, 0.06866953, 0.28571429],\n",
       "       [0.        , 0.32692308, 0.06866953, 0.98979592],\n",
       "       [1.        , 0.32692308, 0.07725322, 0.34693878],\n",
       "       [1.        , 0.13461538, 0.07725322, 0.73469388],\n",
       "       [0.        , 0.53846154, 0.08583691, 0.04081633],\n",
       "       [1.        , 0.25      , 0.08583691, 0.73469388],\n",
       "       [0.        , 0.69230769, 0.11158798, 0.13265306],\n",
       "       [1.        , 0.21153846, 0.11158798, 0.82653061],\n",
       "       [0.        , 0.51923077, 0.11158798, 0.31632653],\n",
       "       [1.        , 0.32692308, 0.11158798, 0.6122449 ],\n",
       "       [0.        , 0.42307692, 0.12017167, 0.30612245],\n",
       "       [0.        , 0.09615385, 0.12017167, 0.87755102],\n",
       "       [1.        , 0.80769231, 0.12875536, 0.03061224],\n",
       "       [0.        , 0.05769231, 0.12875536, 0.73469388],\n",
       "       [1.        , 0.67307692, 0.15450644, 0.03061224],\n",
       "       [1.        , 0.        , 0.15450644, 0.92857143],\n",
       "       [0.        , 0.59615385, 0.15450644, 0.13265306],\n",
       "       [0.        , 0.05769231, 0.15450644, 0.81632653],\n",
       "       [0.        , 0.46153846, 0.16309013, 0.16326531],\n",
       "       [0.        , 0.23076923, 0.16309013, 0.73469388],\n",
       "       [0.        , 0.34615385, 0.1888412 , 0.25510204],\n",
       "       [0.        , 0.03846154, 0.1888412 , 0.75510204],\n",
       "       [0.        , 0.90384615, 0.19742489, 0.34693878],\n",
       "       [1.        , 0.11538462, 0.19742489, 0.92857143],\n",
       "       [1.        , 0.57692308, 0.20600858, 0.35714286],\n",
       "       [0.        , 0.25      , 0.20600858, 0.6122449 ],\n",
       "       [0.        , 0.59615385, 0.20600858, 0.2755102 ],\n",
       "       [0.        , 0.11538462, 0.20600858, 0.65306122],\n",
       "       [0.        , 0.61538462, 0.21459227, 0.55102041],\n",
       "       [0.        , 0.17307692, 0.21459227, 0.46938776],\n",
       "       [0.        , 0.21153846, 0.21459227, 0.41836735],\n",
       "       [0.        , 0.25      , 0.21459227, 0.41836735],\n",
       "       [0.        , 0.59615385, 0.23175966, 0.52040816],\n",
       "       [1.        , 0.28846154, 0.23175966, 0.60204082],\n",
       "       [0.        , 0.25      , 0.24034335, 0.54081633],\n",
       "       [1.        , 0.78846154, 0.24034335, 0.60204082],\n",
       "       [0.        , 0.61538462, 0.24034335, 0.44897959],\n",
       "       [1.        , 0.55769231, 0.24034335, 0.40816327],\n",
       "       [0.        , 0.63461538, 0.24892704, 0.5       ],\n",
       "       [1.        , 0.98076923, 0.24892704, 0.45918367],\n",
       "       [0.        , 0.17307692, 0.26609442, 0.51020408],\n",
       "       [1.        , 0.67307692, 0.26609442, 0.45918367],\n",
       "       [1.        , 1.        , 0.26609442, 0.56122449],\n",
       "       [1.        , 0.01923077, 0.26609442, 0.55102041],\n",
       "       [0.        , 0.94230769, 0.27467811, 0.52040816],\n",
       "       [0.        , 0.69230769, 0.27467811, 0.59183673],\n",
       "       [1.        , 0.86538462, 0.2832618 , 0.51020408],\n",
       "       [1.        , 0.        , 0.2832618 , 0.59183673],\n",
       "       [0.        , 0.48076923, 0.2832618 , 0.5       ],\n",
       "       [0.        , 0.96153846, 0.2832618 , 0.47959184],\n",
       "       [1.        , 0.01923077, 0.2832618 , 0.59183673],\n",
       "       [0.        , 0.26923077, 0.2832618 , 0.46938776],\n",
       "       [1.        , 1.        , 0.29184549, 0.55102041],\n",
       "       [0.        , 0.55769231, 0.29184549, 0.41836735],\n",
       "       [0.        , 0.80769231, 0.30042918, 0.48979592],\n",
       "       [0.        , 0.80769231, 0.30042918, 0.56122449],\n",
       "       [1.        , 0.78846154, 0.33476395, 0.46938776],\n",
       "       [1.        , 0.15384615, 0.33476395, 0.54081633],\n",
       "       [0.        , 0.51923077, 0.33476395, 0.53061224],\n",
       "       [1.        , 0.42307692, 0.33476395, 0.47959184],\n",
       "       [0.        , 0.09615385, 0.33476395, 0.52040816],\n",
       "       [0.        , 0.59615385, 0.33476395, 0.41836735],\n",
       "       [1.        , 0.75      , 0.33476395, 0.51020408],\n",
       "       [1.        , 0.38461538, 0.33476395, 0.55102041],\n",
       "       [1.        , 0.94230769, 0.33476395, 0.40816327],\n",
       "       [0.        , 0.53846154, 0.33476395, 0.43877551],\n",
       "       [0.        , 0.05769231, 0.33476395, 0.57142857],\n",
       "       [1.        , 0.57692308, 0.33476395, 0.45918367],\n",
       "       [0.        , 0.71153846, 0.36051502, 0.58163265],\n",
       "       [0.        , 0.07692308, 0.36051502, 0.55102041],\n",
       "       [0.        , 0.30769231, 0.36909871, 0.60204082],\n",
       "       [0.        , 0.61538462, 0.36909871, 0.45918367],\n",
       "       [0.        , 0.96153846, 0.3776824 , 0.55102041],\n",
       "       [1.        , 0.        , 0.3776824 , 0.40816327],\n",
       "       [1.        , 0.57692308, 0.38626609, 0.48979592],\n",
       "       [0.        , 0.42307692, 0.38626609, 0.39795918],\n",
       "       [0.        , 0.26923077, 0.38626609, 0.41836735],\n",
       "       [1.        , 0.11538462, 0.38626609, 0.52040816],\n",
       "       [0.        , 0.55769231, 0.38626609, 0.46938776],\n",
       "       [0.        , 0.17307692, 0.38626609, 0.5       ],\n",
       "       [1.        , 0.57692308, 0.39484979, 0.41836735],\n",
       "       [1.        , 0.03846154, 0.39484979, 0.48979592],\n",
       "       [0.        , 0.09615385, 0.40343348, 0.40816327],\n",
       "       [0.        , 0.59615385, 0.40343348, 0.47959184],\n",
       "       [1.        , 0.94230769, 0.40343348, 0.59183673],\n",
       "       [1.        , 0.15384615, 0.40343348, 0.55102041],\n",
       "       [1.        , 0.59615385, 0.40343348, 0.56122449],\n",
       "       [0.        , 0.05769231, 0.40343348, 0.41836735],\n",
       "       [0.        , 0.92307692, 0.41201717, 0.5       ],\n",
       "       [1.        , 0.69230769, 0.41201717, 0.45918367],\n",
       "       [1.        , 0.96153846, 0.41201717, 0.42857143],\n",
       "       [1.        , 0.92307692, 0.41201717, 0.47959184],\n",
       "       [1.        , 0.90384615, 0.41201717, 0.52040816],\n",
       "       [0.        , 0.01923077, 0.41201717, 0.54081633],\n",
       "       [0.        , 0.38461538, 0.42060086, 0.41836735],\n",
       "       [1.        , 0.01923077, 0.42060086, 0.45918367],\n",
       "       [0.        , 0.        , 0.42918455, 0.47959184],\n",
       "       [0.        , 0.01923077, 0.42918455, 0.5       ],\n",
       "       [0.        , 0.86538462, 0.42918455, 0.42857143],\n",
       "       [0.        , 0.59615385, 0.42918455, 0.59183673],\n",
       "       [0.        , 0.63461538, 0.44635193, 0.42857143],\n",
       "       [0.        , 0.61538462, 0.44635193, 0.57142857],\n",
       "       [1.        , 0.17307692, 0.44635193, 0.56122449],\n",
       "       [0.        , 0.38461538, 0.44635193, 0.39795918],\n",
       "       [0.        , 0.42307692, 0.46351931, 0.58163265],\n",
       "       [1.        , 0.40384615, 0.46351931, 0.91836735],\n",
       "       [0.        , 0.09615385, 0.472103  , 0.28571429],\n",
       "       [0.        , 0.25      , 0.472103  , 0.7755102 ],\n",
       "       [1.        , 0.48076923, 0.4806867 , 0.34693878],\n",
       "       [1.        , 0.42307692, 0.4806867 , 0.95918367],\n",
       "       [1.        , 0.78846154, 0.4806867 , 0.10204082],\n",
       "       [1.        , 0.38461538, 0.4806867 , 0.75510204],\n",
       "       [1.        , 0.55769231, 0.4806867 , 0.08163265],\n",
       "       [1.        , 0.40384615, 0.4806867 , 0.75510204],\n",
       "       [0.        , 0.13461538, 0.48927039, 0.33673469],\n",
       "       [0.        , 0.25      , 0.48927039, 0.71428571],\n",
       "       [1.        , 0.03846154, 0.49785408, 0.04081633],\n",
       "       [0.        , 0.21153846, 0.49785408, 0.8877551 ],\n",
       "       [0.        , 0.5       , 0.49785408, 0.06122449],\n",
       "       [1.        , 0.26923077, 0.49785408, 0.73469388],\n",
       "       [1.        , 0.01923077, 0.50643777, 0.09183673],\n",
       "       [0.        , 0.32692308, 0.50643777, 0.7244898 ],\n",
       "       [0.        , 0.75      , 0.51502146, 0.04081633],\n",
       "       [1.        , 0.26923077, 0.51502146, 0.93877551],\n",
       "       [0.        , 0.19230769, 0.52360515, 0.39795918],\n",
       "       [0.        , 0.26923077, 0.52360515, 0.87755102],\n",
       "       [1.        , 0.13461538, 0.53218884, 0.1122449 ],\n",
       "       [1.        , 0.19230769, 0.53218884, 0.97959184],\n",
       "       [1.        , 0.57692308, 0.53218884, 0.35714286],\n",
       "       [0.        , 0.26923077, 0.53218884, 0.74489796],\n",
       "       [0.        , 0.30769231, 0.54077253, 0.21428571],\n",
       "       [1.        , 0.30769231, 0.54077253, 0.90816327],\n",
       "       [1.        , 0.48076923, 0.54077253, 0.16326531],\n",
       "       [1.        , 0.40384615, 0.54077253, 0.8877551 ],\n",
       "       [0.        , 0.5       , 0.54077253, 0.19387755],\n",
       "       [0.        , 0.38461538, 0.54077253, 0.76530612],\n",
       "       [0.        , 0.55769231, 0.54077253, 0.15306122],\n",
       "       [0.        , 0.17307692, 0.54077253, 0.89795918],\n",
       "       [1.        , 0.36538462, 0.54077253, 0.        ],\n",
       "       [0.        , 0.23076923, 0.54077253, 0.78571429],\n",
       "       [1.        , 0.30769231, 0.54077253, 0.        ],\n",
       "       [0.        , 0.23076923, 0.54077253, 0.73469388],\n",
       "       [0.        , 0.73076923, 0.54935622, 0.34693878],\n",
       "       [0.        , 0.21153846, 0.54935622, 0.83673469],\n",
       "       [1.        , 0.01923077, 0.56652361, 0.04081633],\n",
       "       [0.        , 0.25      , 0.56652361, 0.93877551],\n",
       "       [1.        , 0.61538462, 0.60085837, 0.25510204],\n",
       "       [0.        , 0.34615385, 0.60085837, 0.75510204],\n",
       "       [1.        , 0.46153846, 0.60944206, 0.19387755],\n",
       "       [0.        , 0.28846154, 0.60944206, 0.95918367],\n",
       "       [0.        , 0.34615385, 0.61802575, 0.26530612],\n",
       "       [1.        , 0.26923077, 0.61802575, 0.63265306],\n",
       "       [1.        , 0.42307692, 0.61802575, 0.12244898],\n",
       "       [1.        , 0.19230769, 0.61802575, 0.75510204],\n",
       "       [1.        , 0.34615385, 0.61802575, 0.09183673],\n",
       "       [1.        , 0.34615385, 0.61802575, 0.92857143],\n",
       "       [0.        , 0.65384615, 0.62660944, 0.12244898],\n",
       "       [0.        , 0.23076923, 0.62660944, 0.86734694],\n",
       "       [1.        , 0.76923077, 0.62660944, 0.14285714],\n",
       "       [1.        , 0.17307692, 0.62660944, 0.69387755],\n",
       "       [1.        , 0.78846154, 0.6695279 , 0.13265306],\n",
       "       [1.        , 0.32692308, 0.6695279 , 0.90816327],\n",
       "       [0.        , 0.36538462, 0.70386266, 0.31632653],\n",
       "       [0.        , 0.26923077, 0.70386266, 0.86734694],\n",
       "       [1.        , 0.53846154, 0.71244635, 0.14285714],\n",
       "       [0.        , 0.21153846, 0.71244635, 0.8877551 ],\n",
       "       [0.        , 0.44230769, 0.72103004, 0.3877551 ],\n",
       "       [1.        , 0.23076923, 0.72103004, 0.97959184],\n",
       "       [0.        , 0.69230769, 0.73819742, 0.23469388],\n",
       "       [1.        , 0.19230769, 0.73819742, 0.68367347],\n",
       "       [0.        , 0.44230769, 0.75536481, 0.16326531],\n",
       "       [0.        , 0.34615385, 0.75536481, 0.85714286],\n",
       "       [0.        , 0.30769231, 0.75536481, 0.2244898 ],\n",
       "       [0.        , 0.26923077, 0.75536481, 0.69387755],\n",
       "       [1.        , 0.28846154, 0.84120172, 0.07142857],\n",
       "       [0.        , 0.38461538, 0.84120172, 0.91836735],\n",
       "       [0.        , 0.55769231, 0.90128755, 0.15306122],\n",
       "       [0.        , 0.32692308, 0.90128755, 0.79591837],\n",
       "       [0.        , 0.51923077, 1.        , 0.2755102 ],\n",
       "       [1.        , 0.26923077, 1.        , 0.74489796],\n",
       "       [1.        , 0.26923077, 1.        , 0.17346939],\n",
       "       [1.        , 0.23076923, 1.        , 0.83673469]])"
      ]
     },
     "execution_count": 21,
     "metadata": {},
     "output_type": "execute_result"
    }
   ],
   "source": [
    "from sklearn.preprocessing import MinMaxScaler\n",
    "scaler=MinMaxScaler()\n",
    "scaler.fit_transform(df)"
   ]
  },
  {
   "cell_type": "markdown",
   "id": "e12a63fd",
   "metadata": {},
   "source": [
    "# 9)K Means Clusitering"
   ]
  },
  {
   "cell_type": "code",
   "execution_count": 22,
   "id": "d8b928e8",
   "metadata": {},
   "outputs": [],
   "source": [
    "from sklearn import cluster"
   ]
  },
  {
   "cell_type": "code",
   "execution_count": 23,
   "id": "5bb520cd",
   "metadata": {},
   "outputs": [
    {
     "name": "stderr",
     "output_type": "stream",
     "text": [
      "C:\\ProgramData\\Anaconda3\\lib\\site-packages\\sklearn\\cluster\\_kmeans.py:1036: UserWarning: KMeans is known to have a memory leak on Windows with MKL, when there are less chunks than available threads. You can avoid it by setting the environment variable OMP_NUM_THREADS=1.\n",
      "  warnings.warn(\n"
     ]
    }
   ],
   "source": [
    "error =[]\n",
    "for i in range(1,15):\n",
    "    kmeans=cluster.KMeans(n_clusters=i,init='k-means++',random_state=0)\n",
    "    kmeans.fit(df)\n",
    "    error.append(kmeans.inertia_)"
   ]
  },
  {
   "cell_type": "code",
   "execution_count": 24,
   "id": "4b961666",
   "metadata": {},
   "outputs": [
    {
     "data": {
      "text/plain": [
       "[308741.06,\n",
       " 212768.44245524297,\n",
       " 143270.5923603568,\n",
       " 104293.67534220166,\n",
       " 75278.61541401484,\n",
       " 58227.64136331505,\n",
       " 51011.7032125769,\n",
       " 44271.11566567936,\n",
       " 40559.52881190243,\n",
       " 37528.69225429742,\n",
       " 34465.951869682045,\n",
       " 31973.95722471973,\n",
       " 29219.157029829476,\n",
       " 27779.02784164306]"
      ]
     },
     "execution_count": 24,
     "metadata": {},
     "output_type": "execute_result"
    }
   ],
   "source": [
    "error"
   ]
  },
  {
   "cell_type": "code",
   "execution_count": 25,
   "id": "7c9135c4",
   "metadata": {},
   "outputs": [
    {
     "data": {
      "image/png": "[encoded data removed]",
      "text/plain": [
       "<Figure size 432x288 with 1 Axes>"
      ]
     },
     "metadata": {
      "needs_background": "light"
     },
     "output_type": "display_data"
    }
   ],
   "source": [
    "import matplotlib.pyplot as plt\n",
    "plt.plot(range(1,15),error)\n",
    "plt.title('Elbow method')\n",
    "plt.xlabel('No.of cluster')\n",
    "plt.ylabel('Error')\n",
    "plt.show()"
   ]
  },
  {
   "cell_type": "code",
   "execution_count": 26,
   "id": "7c7901de",
   "metadata": {},
   "outputs": [],
   "source": [
    "Kmmodel=cluster.KMeans(n_clusters=6,init='k-means++',random_state=0)"
   ]
  },
  {
   "cell_type": "code",
   "execution_count": 27,
   "id": "a5b6b431",
   "metadata": {},
   "outputs": [
    {
     "data": {
      "text/plain": [
       "KMeans(n_clusters=6, random_state=0)"
      ]
     },
     "execution_count": 27,
     "metadata": {},
     "output_type": "execute_result"
    }
   ],
   "source": [
    "Kmmodel.fit(df)"
   ]
  },
  {
   "cell_type": "code",
   "execution_count": 28,
   "id": "b7ca0cd9",
   "metadata": {},
   "outputs": [
    {
     "data": {
      "text/plain": [
       "array([5, 4, 5, 4, 5, 4, 5, 4, 5, 4, 5, 4, 5, 4, 5, 4, 5, 4, 5, 4, 5, 4,\n",
       "       5, 4, 5, 4, 5, 4, 5, 4, 5, 4, 5, 4, 5, 4, 5, 4, 5, 4, 1, 4, 1, 0,\n",
       "       5, 4, 1, 0, 0, 0, 1, 0, 0, 1, 1, 1, 1, 1, 0, 1, 1, 0, 1, 1, 1, 0,\n",
       "       1, 1, 0, 0, 1, 1, 1, 1, 1, 0, 1, 0, 0, 1, 1, 0, 1, 1, 0, 1, 1, 0,\n",
       "       0, 1, 1, 0, 1, 0, 0, 0, 1, 0, 1, 0, 0, 1, 1, 0, 1, 0, 1, 1, 1, 1,\n",
       "       1, 0, 0, 0, 0, 0, 1, 1, 1, 1, 0, 0, 0, 3, 0, 3, 2, 3, 2, 3, 2, 3,\n",
       "       0, 3, 2, 3, 2, 3, 2, 3, 2, 3, 0, 3, 2, 3, 2, 3, 2, 3, 2, 3, 2, 3,\n",
       "       2, 3, 2, 3, 2, 3, 2, 3, 2, 3, 2, 3, 2, 3, 2, 3, 2, 3, 2, 3, 2, 3,\n",
       "       2, 3, 2, 3, 2, 3, 2, 3, 2, 3, 2, 3, 2, 3, 2, 3, 2, 3, 2, 3, 2, 3,\n",
       "       2, 3])"
      ]
     },
     "execution_count": 28,
     "metadata": {},
     "output_type": "execute_result"
    }
   ],
   "source": [
    "predict=Kmmodel.predict(df)\n",
    "predict"
   ]
  },
  {
   "cell_type": "code",
   "execution_count": 29,
   "id": "680fb0cf",
   "metadata": {},
   "outputs": [
    {
     "name": "stderr",
     "output_type": "stream",
     "text": [
      "C:\\ProgramData\\Anaconda3\\lib\\site-packages\\sklearn\\base.py:450: UserWarning: X does not have valid feature names, but KMeans was fitted with feature names\n",
      "  warnings.warn(\n"
     ]
    },
    {
     "data": {
      "text/plain": [
       "array([5])"
      ]
     },
     "execution_count": 29,
     "metadata": {},
     "output_type": "execute_result"
    }
   ],
   "source": [
    "Kmmodel.predict([[1,19,15.0,39]])"
   ]
  },
  {
   "cell_type": "code",
   "execution_count": 30,
   "id": "a999029d",
   "metadata": {},
   "outputs": [
    {
     "name": "stderr",
     "output_type": "stream",
     "text": [
      "C:\\ProgramData\\Anaconda3\\lib\\site-packages\\sklearn\\base.py:450: UserWarning: X does not have valid feature names, but KMeans was fitted with feature names\n",
      "  warnings.warn(\n"
     ]
    },
    {
     "data": {
      "text/plain": [
       "array([4])"
      ]
     },
     "execution_count": 30,
     "metadata": {},
     "output_type": "execute_result"
    }
   ],
   "source": [
    "Kmmodel.predict([[0,23,16.0,77]])"
   ]
  },
  {
   "cell_type": "markdown",
   "id": "47750726",
   "metadata": {},
   "source": [
    "# Adding the Cluster Data with the Primary Dataset"
   ]
  },
  {
   "cell_type": "code",
   "execution_count": 31,
   "id": "bd4367f7",
   "metadata": {},
   "outputs": [
    {
     "data": {
      "text/html": [
       "<div>\n",
       "<style scoped>\n",
       "    .dataframe tbody tr th:only-of-type {\n",
       "        vertical-align: middle;\n",
       "    }\n",
       "\n",
       "    .dataframe tbody tr th {\n",
       "        vertical-align: top;\n",
       "    }\n",
       "\n",
       "    .dataframe thead th {\n",
       "        text-align: right;\n",
       "    }\n",
       "</style>\n",
       "<table border=\"1\" class=\"dataframe\">\n",
       "  <thead>\n",
       "    <tr style=\"text-align: right;\">\n",
       "      <th></th>\n",
       "      <th>Gender</th>\n",
       "      <th>Age</th>\n",
       "      <th>Annual Income (k$)</th>\n",
       "      <th>Spending Score (1-100)</th>\n",
       "      <th>Prediction</th>\n",
       "    </tr>\n",
       "  </thead>\n",
       "  <tbody>\n",
       "    <tr>\n",
       "      <th>0</th>\n",
       "      <td>1</td>\n",
       "      <td>19</td>\n",
       "      <td>15.0</td>\n",
       "      <td>39</td>\n",
       "      <td>5</td>\n",
       "    </tr>\n",
       "    <tr>\n",
       "      <th>1</th>\n",
       "      <td>1</td>\n",
       "      <td>21</td>\n",
       "      <td>15.0</td>\n",
       "      <td>81</td>\n",
       "      <td>4</td>\n",
       "    </tr>\n",
       "    <tr>\n",
       "      <th>2</th>\n",
       "      <td>0</td>\n",
       "      <td>20</td>\n",
       "      <td>16.0</td>\n",
       "      <td>6</td>\n",
       "      <td>5</td>\n",
       "    </tr>\n",
       "    <tr>\n",
       "      <th>3</th>\n",
       "      <td>0</td>\n",
       "      <td>23</td>\n",
       "      <td>16.0</td>\n",
       "      <td>77</td>\n",
       "      <td>4</td>\n",
       "    </tr>\n",
       "    <tr>\n",
       "      <th>4</th>\n",
       "      <td>0</td>\n",
       "      <td>31</td>\n",
       "      <td>17.0</td>\n",
       "      <td>40</td>\n",
       "      <td>5</td>\n",
       "    </tr>\n",
       "  </tbody>\n",
       "</table>\n",
       "</div>"
      ],
      "text/plain": [
       "   Gender  Age  Annual Income (k$)  Spending Score (1-100)  Prediction\n",
       "0       1   19                15.0                      39           5\n",
       "1       1   21                15.0                      81           4\n",
       "2       0   20                16.0                       6           5\n",
       "3       0   23                16.0                      77           4\n",
       "4       0   31                17.0                      40           5"
      ]
     },
     "execution_count": 31,
     "metadata": {},
     "output_type": "execute_result"
    }
   ],
   "source": [
    "df['Prediction']=pd.Series(predict)\n",
    "df.head()"
   ]
  },
  {
   "cell_type": "markdown",
   "id": "3a5c0459",
   "metadata": {},
   "source": [
    "# Splitting The Data into Dependent and Independent Columns."
   ]
  },
  {
   "cell_type": "code",
   "execution_count": 32,
   "id": "b4355b3c",
   "metadata": {},
   "outputs": [
    {
     "data": {
      "text/html": [
       "<div>\n",
       "<style scoped>\n",
       "    .dataframe tbody tr th:only-of-type {\n",
       "        vertical-align: middle;\n",
       "    }\n",
       "\n",
       "    .dataframe tbody tr th {\n",
       "        vertical-align: top;\n",
       "    }\n",
       "\n",
       "    .dataframe thead th {\n",
       "        text-align: right;\n",
       "    }\n",
       "</style>\n",
       "<table border=\"1\" class=\"dataframe\">\n",
       "  <thead>\n",
       "    <tr style=\"text-align: right;\">\n",
       "      <th></th>\n",
       "      <th>Gender</th>\n",
       "      <th>Age</th>\n",
       "      <th>Annual Income (k$)</th>\n",
       "      <th>Spending Score (1-100)</th>\n",
       "    </tr>\n",
       "  </thead>\n",
       "  <tbody>\n",
       "    <tr>\n",
       "      <th>0</th>\n",
       "      <td>1</td>\n",
       "      <td>19</td>\n",
       "      <td>15.0</td>\n",
       "      <td>39</td>\n",
       "    </tr>\n",
       "    <tr>\n",
       "      <th>1</th>\n",
       "      <td>1</td>\n",
       "      <td>21</td>\n",
       "      <td>15.0</td>\n",
       "      <td>81</td>\n",
       "    </tr>\n",
       "    <tr>\n",
       "      <th>2</th>\n",
       "      <td>0</td>\n",
       "      <td>20</td>\n",
       "      <td>16.0</td>\n",
       "      <td>6</td>\n",
       "    </tr>\n",
       "    <tr>\n",
       "      <th>3</th>\n",
       "      <td>0</td>\n",
       "      <td>23</td>\n",
       "      <td>16.0</td>\n",
       "      <td>77</td>\n",
       "    </tr>\n",
       "    <tr>\n",
       "      <th>4</th>\n",
       "      <td>0</td>\n",
       "      <td>31</td>\n",
       "      <td>17.0</td>\n",
       "      <td>40</td>\n",
       "    </tr>\n",
       "  </tbody>\n",
       "</table>\n",
       "</div>"
      ],
      "text/plain": [
       "   Gender  Age  Annual Income (k$)  Spending Score (1-100)\n",
       "0       1   19                15.0                      39\n",
       "1       1   21                15.0                      81\n",
       "2       0   20                16.0                       6\n",
       "3       0   23                16.0                      77\n",
       "4       0   31                17.0                      40"
      ]
     },
     "execution_count": 32,
     "metadata": {},
     "output_type": "execute_result"
    }
   ],
   "source": [
    "X=df.drop(columns=['Prediction'])\n",
    "X.head()"
   ]
  },
  {
   "cell_type": "code",
   "execution_count": 33,
   "id": "32859687",
   "metadata": {
    "scrolled": true
   },
   "outputs": [
    {
     "data": {
      "text/plain": [
       "0    5\n",
       "1    4\n",
       "2    5\n",
       "3    4\n",
       "4    5\n",
       "Name: Prediction, dtype: int32"
      ]
     },
     "execution_count": 33,
     "metadata": {},
     "output_type": "execute_result"
    }
   ],
   "source": [
    "Y=df.Prediction\n",
    "Y.head()"
   ]
  },
  {
   "cell_type": "markdown",
   "id": "35880778",
   "metadata": {},
   "source": [
    "# Splitting the Data into Training and Testing"
   ]
  },
  {
   "cell_type": "code",
   "execution_count": 34,
   "id": "6d0fea68",
   "metadata": {},
   "outputs": [],
   "source": [
    "from sklearn.model_selection import train_test_split"
   ]
  },
  {
   "cell_type": "code",
   "execution_count": 35,
   "id": "5287a011",
   "metadata": {},
   "outputs": [],
   "source": [
    "x_train,x_test,y_train,y_test=train_test_split(X,Y,test_size=0.3,random_state=1)"
   ]
  },
  {
   "cell_type": "code",
   "execution_count": 36,
   "id": "80ab3983",
   "metadata": {},
   "outputs": [
    {
     "data": {
      "text/plain": [
       "(140, 4)"
      ]
     },
     "execution_count": 36,
     "metadata": {},
     "output_type": "execute_result"
    }
   ],
   "source": [
    "x_train.shape"
   ]
  },
  {
   "cell_type": "code",
   "execution_count": 37,
   "id": "9e55f291",
   "metadata": {},
   "outputs": [
    {
     "data": {
      "text/plain": [
       "(140,)"
      ]
     },
     "execution_count": 37,
     "metadata": {},
     "output_type": "execute_result"
    }
   ],
   "source": [
    "y_train.shape"
   ]
  },
  {
   "cell_type": "code",
   "execution_count": 38,
   "id": "bffd8b74",
   "metadata": {},
   "outputs": [
    {
     "data": {
      "text/plain": [
       "(60, 4)"
      ]
     },
     "execution_count": 38,
     "metadata": {},
     "output_type": "execute_result"
    }
   ],
   "source": [
    "x_test.shape"
   ]
  },
  {
   "cell_type": "code",
   "execution_count": 39,
   "id": "7eab40cc",
   "metadata": {},
   "outputs": [
    {
     "data": {
      "text/plain": [
       "(60,)"
      ]
     },
     "execution_count": 39,
     "metadata": {},
     "output_type": "execute_result"
    }
   ],
   "source": [
    "y_test.shape"
   ]
  },
  {
   "cell_type": "markdown",
   "id": "1ff30583",
   "metadata": {},
   "source": [
    "# 10.Building The Model"
   ]
  },
  {
   "cell_type": "markdown",
   "id": "31ae39e8",
   "metadata": {},
   "source": [
    "# a) Logistic Regression"
   ]
  },
  {
   "cell_type": "code",
   "execution_count": 40,
   "id": "935e8aa4",
   "metadata": {},
   "outputs": [],
   "source": [
    "from sklearn.linear_model import LogisticRegression\n",
    "model=LogisticRegression()"
   ]
  },
  {
   "cell_type": "code",
   "execution_count": 41,
   "id": "c563115d",
   "metadata": {},
   "outputs": [
    {
     "name": "stderr",
     "output_type": "stream",
     "text": [
      "C:\\ProgramData\\Anaconda3\\lib\\site-packages\\sklearn\\linear_model\\_logistic.py:814: ConvergenceWarning: lbfgs failed to converge (status=1):\n",
      "STOP: TOTAL NO. of ITERATIONS REACHED LIMIT.\n",
      "\n",
      "Increase the number of iterations (max_iter) or scale the data as shown in:\n",
      "    https://scikit-learn.org/stable/modules/preprocessing.html\n",
      "Please also refer to the documentation for alternative solver options:\n",
      "    https://scikit-learn.org/stable/modules/linear_model.html#logistic-regression\n",
      "  n_iter_i = _check_optimize_result(\n"
     ]
    },
    {
     "data": {
      "text/plain": [
       "LogisticRegression()"
      ]
     },
     "execution_count": 41,
     "metadata": {},
     "output_type": "execute_result"
    }
   ],
   "source": [
    "model.fit(x_train,y_train)"
   ]
  },
  {
   "cell_type": "code",
   "execution_count": 42,
   "id": "e29d8b7f",
   "metadata": {},
   "outputs": [
    {
     "data": {
      "text/plain": [
       "array([0, 5, 5, 1, 2, 2, 0, 5, 4, 2, 3, 5, 4, 1, 1, 1, 3, 4, 2, 1, 0, 5,\n",
       "       1, 0, 4, 2, 1, 1, 3, 1, 0, 3, 2, 3, 2, 0, 2, 1, 0, 2, 1, 1, 3, 5,\n",
       "       1, 4, 3, 4, 3, 2, 1, 3, 1, 1, 4, 3, 3, 1, 3, 2])"
      ]
     },
     "execution_count": 42,
     "metadata": {},
     "output_type": "execute_result"
    }
   ],
   "source": [
    "pred1=model.predict(x_test)\n",
    "pred1"
   ]
  },
  {
   "cell_type": "code",
   "execution_count": 43,
   "id": "704fc1f8",
   "metadata": {},
   "outputs": [
    {
     "data": {
      "text/plain": [
       "58     0\n",
       "40     1\n",
       "34     5\n",
       "102    1\n",
       "184    2\n",
       "198    2\n",
       "95     0\n",
       "4      5\n",
       "29     4\n",
       "168    2\n",
       "171    3\n",
       "18     5\n",
       "11     4\n",
       "89     1\n",
       "110    1\n",
       "118    1\n",
       "159    3\n",
       "35     4\n",
       "136    2\n",
       "59     1\n",
       "51     0\n",
       "16     5\n",
       "44     5\n",
       "94     0\n",
       "31     4\n",
       "162    2\n",
       "38     5\n",
       "28     5\n",
       "193    3\n",
       "27     4\n",
       "47     0\n",
       "165    3\n",
       "194    2\n",
       "177    3\n",
       "176    2\n",
       "97     0\n",
       "174    2\n",
       "73     1\n",
       "69     0\n",
       "172    2\n",
       "108    1\n",
       "107    1\n",
       "189    3\n",
       "14     5\n",
       "56     1\n",
       "19     4\n",
       "114    0\n",
       "39     4\n",
       "185    3\n",
       "124    0\n",
       "98     1\n",
       "123    3\n",
       "119    1\n",
       "53     1\n",
       "33     4\n",
       "179    3\n",
       "181    3\n",
       "106    1\n",
       "199    3\n",
       "138    2\n",
       "Name: Prediction, dtype: int32"
      ]
     },
     "execution_count": 43,
     "metadata": {},
     "output_type": "execute_result"
    }
   ],
   "source": [
    "y_test"
   ]
  },
  {
   "cell_type": "code",
   "execution_count": 44,
   "id": "6e3b694b",
   "metadata": {},
   "outputs": [
    {
     "data": {
      "text/plain": [
       "array([1, 1, 3, 1, 4, 4, 3, 0, 0, 1, 1, 3, 3, 2, 2, 0, 5, 1, 0, 0, 2, 1,\n",
       "       0, 0, 3, 4, 1, 0, 3, 4, 0, 1, 3, 2, 3, 0, 3, 3, 2, 3, 0, 4, 0, 2,\n",
       "       5, 1, 1, 2, 5, 0, 1, 3, 0, 3, 1, 3, 0, 2, 1, 1, 1, 1, 3, 2, 3, 3,\n",
       "       2, 3, 2, 5, 5, 1, 2, 0, 3, 4, 2, 4, 2, 1, 3, 3, 3, 2, 1, 4, 4, 3,\n",
       "       1, 1, 0, 5, 1, 0, 5, 4, 0, 0, 3, 0, 2, 5, 0, 3, 3, 5, 1, 2, 4, 5,\n",
       "       5, 3, 1, 4, 2, 3, 1, 1, 3, 1, 0, 3, 2, 3, 2, 1, 1, 2, 4, 2, 1, 0,\n",
       "       2, 2, 1, 3, 3, 1, 2, 4])"
      ]
     },
     "execution_count": 44,
     "metadata": {},
     "output_type": "execute_result"
    }
   ],
   "source": [
    "train_pred=model.predict(x_train)\n",
    "train_pred"
   ]
  },
  {
   "cell_type": "markdown",
   "id": "09958222",
   "metadata": {},
   "source": [
    "# Evaluation of The Algorithm Performance using Evaluation Metrics"
   ]
  },
  {
   "cell_type": "code",
   "execution_count": 45,
   "id": "e727a192",
   "metadata": {},
   "outputs": [],
   "source": [
    "from sklearn.metrics import accuracy_score,confusion_matrix,classification_report"
   ]
  },
  {
   "cell_type": "code",
   "execution_count": 46,
   "id": "cc85a36a",
   "metadata": {},
   "outputs": [
    {
     "data": {
      "text/plain": [
       "0.8833333333333333"
      ]
     },
     "execution_count": 46,
     "metadata": {},
     "output_type": "execute_result"
    }
   ],
   "source": [
    "accuracy_score(y_test,pred1)"
   ]
  },
  {
   "cell_type": "code",
   "execution_count": 47,
   "id": "961adf14",
   "metadata": {},
   "outputs": [
    {
     "data": {
      "text/plain": [
       "0.8928571428571429"
      ]
     },
     "execution_count": 47,
     "metadata": {},
     "output_type": "execute_result"
    }
   ],
   "source": [
    "accuracy_score(y_train,train_pred)"
   ]
  },
  {
   "cell_type": "code",
   "execution_count": 48,
   "id": "692d7d02",
   "metadata": {},
   "outputs": [
    {
     "data": {
      "text/plain": [
       "array([[ 7,  0,  1,  1,  0,  0],\n",
       "       [ 0, 13,  0,  0,  0,  1],\n",
       "       [ 0,  0, 10,  0,  0,  0],\n",
       "       [ 0,  0,  0, 11,  0,  0],\n",
       "       [ 0,  1,  0,  0,  7,  0],\n",
       "       [ 0,  3,  0,  0,  0,  5]], dtype=int64)"
      ]
     },
     "execution_count": 48,
     "metadata": {},
     "output_type": "execute_result"
    }
   ],
   "source": [
    "confusion_matrix(y_test,pred1)"
   ]
  },
  {
   "cell_type": "code",
   "execution_count": 49,
   "id": "9153e92c",
   "metadata": {},
   "outputs": [
    {
     "data": {
      "text/html": [
       "<div>\n",
       "<style scoped>\n",
       "    .dataframe tbody tr th:only-of-type {\n",
       "        vertical-align: middle;\n",
       "    }\n",
       "\n",
       "    .dataframe tbody tr th {\n",
       "        vertical-align: top;\n",
       "    }\n",
       "\n",
       "    .dataframe thead th {\n",
       "        text-align: right;\n",
       "    }\n",
       "</style>\n",
       "<table border=\"1\" class=\"dataframe\">\n",
       "  <thead>\n",
       "    <tr style=\"text-align: right;\">\n",
       "      <th>col_0</th>\n",
       "      <th>0</th>\n",
       "      <th>1</th>\n",
       "      <th>2</th>\n",
       "      <th>3</th>\n",
       "      <th>4</th>\n",
       "      <th>5</th>\n",
       "    </tr>\n",
       "    <tr>\n",
       "      <th>Prediction</th>\n",
       "      <th></th>\n",
       "      <th></th>\n",
       "      <th></th>\n",
       "      <th></th>\n",
       "      <th></th>\n",
       "      <th></th>\n",
       "    </tr>\n",
       "  </thead>\n",
       "  <tbody>\n",
       "    <tr>\n",
       "      <th>0</th>\n",
       "      <td>7</td>\n",
       "      <td>0</td>\n",
       "      <td>1</td>\n",
       "      <td>1</td>\n",
       "      <td>0</td>\n",
       "      <td>0</td>\n",
       "    </tr>\n",
       "    <tr>\n",
       "      <th>1</th>\n",
       "      <td>0</td>\n",
       "      <td>13</td>\n",
       "      <td>0</td>\n",
       "      <td>0</td>\n",
       "      <td>0</td>\n",
       "      <td>1</td>\n",
       "    </tr>\n",
       "    <tr>\n",
       "      <th>2</th>\n",
       "      <td>0</td>\n",
       "      <td>0</td>\n",
       "      <td>10</td>\n",
       "      <td>0</td>\n",
       "      <td>0</td>\n",
       "      <td>0</td>\n",
       "    </tr>\n",
       "    <tr>\n",
       "      <th>3</th>\n",
       "      <td>0</td>\n",
       "      <td>0</td>\n",
       "      <td>0</td>\n",
       "      <td>11</td>\n",
       "      <td>0</td>\n",
       "      <td>0</td>\n",
       "    </tr>\n",
       "    <tr>\n",
       "      <th>4</th>\n",
       "      <td>0</td>\n",
       "      <td>1</td>\n",
       "      <td>0</td>\n",
       "      <td>0</td>\n",
       "      <td>7</td>\n",
       "      <td>0</td>\n",
       "    </tr>\n",
       "    <tr>\n",
       "      <th>5</th>\n",
       "      <td>0</td>\n",
       "      <td>3</td>\n",
       "      <td>0</td>\n",
       "      <td>0</td>\n",
       "      <td>0</td>\n",
       "      <td>5</td>\n",
       "    </tr>\n",
       "  </tbody>\n",
       "</table>\n",
       "</div>"
      ],
      "text/plain": [
       "col_0       0   1   2   3  4  5\n",
       "Prediction                     \n",
       "0           7   0   1   1  0  0\n",
       "1           0  13   0   0  0  1\n",
       "2           0   0  10   0  0  0\n",
       "3           0   0   0  11  0  0\n",
       "4           0   1   0   0  7  0\n",
       "5           0   3   0   0  0  5"
      ]
     },
     "execution_count": 49,
     "metadata": {},
     "output_type": "execute_result"
    }
   ],
   "source": [
    "pd.crosstab(y_test,pred1)"
   ]
  },
  {
   "cell_type": "code",
   "execution_count": 50,
   "id": "d88e5499",
   "metadata": {},
   "outputs": [
    {
     "name": "stdout",
     "output_type": "stream",
     "text": [
      "              precision    recall  f1-score   support\n",
      "\n",
      "           0       1.00      0.78      0.88         9\n",
      "           1       0.76      0.93      0.84        14\n",
      "           2       0.91      1.00      0.95        10\n",
      "           3       0.92      1.00      0.96        11\n",
      "           4       1.00      0.88      0.93         8\n",
      "           5       0.83      0.62      0.71         8\n",
      "\n",
      "    accuracy                           0.88        60\n",
      "   macro avg       0.90      0.87      0.88        60\n",
      "weighted avg       0.89      0.88      0.88        60\n",
      "\n"
     ]
    }
   ],
   "source": [
    "print(classification_report(y_test,pred1))"
   ]
  },
  {
   "cell_type": "markdown",
   "id": "a07ac613",
   "metadata": {},
   "source": [
    "# b) Random Forest Classifier"
   ]
  },
  {
   "cell_type": "code",
   "execution_count": 51,
   "id": "2aaea8ca",
   "metadata": {},
   "outputs": [],
   "source": [
    "from sklearn.ensemble import RandomForestClassifier \n",
    "rf=RandomForestClassifier(n_estimators=10,criterion=\"entropy\")"
   ]
  },
  {
   "cell_type": "code",
   "execution_count": 52,
   "id": "ca2eeb75",
   "metadata": {},
   "outputs": [
    {
     "data": {
      "text/plain": [
       "RandomForestClassifier(criterion='entropy', n_estimators=10)"
      ]
     },
     "execution_count": 52,
     "metadata": {},
     "output_type": "execute_result"
    }
   ],
   "source": [
    "rf.fit(x_train,y_train)"
   ]
  },
  {
   "cell_type": "code",
   "execution_count": 53,
   "id": "bdc309bf",
   "metadata": {},
   "outputs": [
    {
     "data": {
      "text/plain": [
       "array([0, 1, 5, 1, 2, 2, 0, 0, 4, 2, 3, 5, 4, 1, 1, 1, 3, 4, 2, 1, 0, 5,\n",
       "       5, 0, 4, 2, 5, 5, 3, 0, 0, 3, 2, 3, 2, 0, 2, 1, 0, 2, 1, 1, 3, 5,\n",
       "       1, 4, 0, 4, 3, 0, 1, 3, 1, 1, 4, 3, 3, 1, 3, 2])"
      ]
     },
     "execution_count": 53,
     "metadata": {},
     "output_type": "execute_result"
    }
   ],
   "source": [
    "pred3=rf.predict(x_test)\n",
    "pred3"
   ]
  },
  {
   "cell_type": "code",
   "execution_count": 54,
   "id": "35fc5519",
   "metadata": {},
   "outputs": [
    {
     "data": {
      "text/plain": [
       "array([1, 1, 0, 1, 4, 4, 3, 0, 0, 1, 1, 0, 3, 2, 2, 0, 5, 1, 0, 0, 2, 1,\n",
       "       0, 0, 3, 4, 1, 0, 3, 4, 0, 5, 3, 2, 3, 0, 3, 3, 2, 3, 0, 4, 0, 2,\n",
       "       5, 1, 1, 2, 5, 0, 0, 3, 0, 0, 1, 3, 0, 2, 1, 1, 1, 1, 3, 2, 3, 0,\n",
       "       2, 3, 2, 5, 5, 1, 2, 0, 3, 4, 2, 4, 2, 1, 3, 3, 0, 2, 1, 4, 4, 3,\n",
       "       1, 1, 0, 5, 1, 0, 5, 4, 3, 0, 3, 3, 2, 5, 0, 0, 3, 5, 1, 2, 4, 1,\n",
       "       5, 0, 1, 4, 2, 3, 1, 1, 0, 1, 0, 3, 2, 3, 2, 1, 5, 2, 4, 2, 1, 3,\n",
       "       2, 2, 1, 3, 3, 1, 2, 4])"
      ]
     },
     "execution_count": 54,
     "metadata": {},
     "output_type": "execute_result"
    }
   ],
   "source": [
    "train_pred2=rf.predict(x_train)\n",
    "train_pred2"
   ]
  },
  {
   "cell_type": "markdown",
   "id": "a87092f9",
   "metadata": {},
   "source": [
    "# Evaluation of The Algorithm Performance using Evaluation Metrics"
   ]
  },
  {
   "cell_type": "code",
   "execution_count": 55,
   "id": "21b46a78",
   "metadata": {},
   "outputs": [],
   "source": [
    "from sklearn.metrics import accuracy_score,confusion_matrix,classification_report"
   ]
  },
  {
   "cell_type": "code",
   "execution_count": 56,
   "id": "b9ed7409",
   "metadata": {},
   "outputs": [
    {
     "data": {
      "text/plain": [
       "0.9666666666666667"
      ]
     },
     "execution_count": 56,
     "metadata": {},
     "output_type": "execute_result"
    }
   ],
   "source": [
    "accuracy_score(y_test,pred3)"
   ]
  },
  {
   "cell_type": "code",
   "execution_count": 57,
   "id": "816b8d22",
   "metadata": {},
   "outputs": [
    {
     "data": {
      "text/plain": [
       "0.9928571428571429"
      ]
     },
     "execution_count": 57,
     "metadata": {},
     "output_type": "execute_result"
    }
   ],
   "source": [
    "accuracy_score(y_train,train_pred2)"
   ]
  },
  {
   "cell_type": "code",
   "execution_count": 58,
   "id": "6e7fb19e",
   "metadata": {},
   "outputs": [
    {
     "data": {
      "text/plain": [
       "array([[ 9,  0,  0,  0,  0,  0],\n",
       "       [ 0, 14,  0,  0,  0,  0],\n",
       "       [ 0,  0, 10,  0,  0,  0],\n",
       "       [ 0,  0,  0, 11,  0,  0],\n",
       "       [ 1,  0,  0,  0,  7,  0],\n",
       "       [ 1,  0,  0,  0,  0,  7]], dtype=int64)"
      ]
     },
     "execution_count": 58,
     "metadata": {},
     "output_type": "execute_result"
    }
   ],
   "source": [
    "confusion_matrix(y_test,pred3)"
   ]
  },
  {
   "cell_type": "code",
   "execution_count": 59,
   "id": "3f028269",
   "metadata": {},
   "outputs": [
    {
     "data": {
      "text/html": [
       "<div>\n",
       "<style scoped>\n",
       "    .dataframe tbody tr th:only-of-type {\n",
       "        vertical-align: middle;\n",
       "    }\n",
       "\n",
       "    .dataframe tbody tr th {\n",
       "        vertical-align: top;\n",
       "    }\n",
       "\n",
       "    .dataframe thead th {\n",
       "        text-align: right;\n",
       "    }\n",
       "</style>\n",
       "<table border=\"1\" class=\"dataframe\">\n",
       "  <thead>\n",
       "    <tr style=\"text-align: right;\">\n",
       "      <th>col_0</th>\n",
       "      <th>0</th>\n",
       "      <th>1</th>\n",
       "      <th>2</th>\n",
       "      <th>3</th>\n",
       "      <th>4</th>\n",
       "      <th>5</th>\n",
       "    </tr>\n",
       "    <tr>\n",
       "      <th>Prediction</th>\n",
       "      <th></th>\n",
       "      <th></th>\n",
       "      <th></th>\n",
       "      <th></th>\n",
       "      <th></th>\n",
       "      <th></th>\n",
       "    </tr>\n",
       "  </thead>\n",
       "  <tbody>\n",
       "    <tr>\n",
       "      <th>0</th>\n",
       "      <td>9</td>\n",
       "      <td>0</td>\n",
       "      <td>0</td>\n",
       "      <td>0</td>\n",
       "      <td>0</td>\n",
       "      <td>0</td>\n",
       "    </tr>\n",
       "    <tr>\n",
       "      <th>1</th>\n",
       "      <td>0</td>\n",
       "      <td>14</td>\n",
       "      <td>0</td>\n",
       "      <td>0</td>\n",
       "      <td>0</td>\n",
       "      <td>0</td>\n",
       "    </tr>\n",
       "    <tr>\n",
       "      <th>2</th>\n",
       "      <td>0</td>\n",
       "      <td>0</td>\n",
       "      <td>10</td>\n",
       "      <td>0</td>\n",
       "      <td>0</td>\n",
       "      <td>0</td>\n",
       "    </tr>\n",
       "    <tr>\n",
       "      <th>3</th>\n",
       "      <td>0</td>\n",
       "      <td>0</td>\n",
       "      <td>0</td>\n",
       "      <td>11</td>\n",
       "      <td>0</td>\n",
       "      <td>0</td>\n",
       "    </tr>\n",
       "    <tr>\n",
       "      <th>4</th>\n",
       "      <td>1</td>\n",
       "      <td>0</td>\n",
       "      <td>0</td>\n",
       "      <td>0</td>\n",
       "      <td>7</td>\n",
       "      <td>0</td>\n",
       "    </tr>\n",
       "    <tr>\n",
       "      <th>5</th>\n",
       "      <td>1</td>\n",
       "      <td>0</td>\n",
       "      <td>0</td>\n",
       "      <td>0</td>\n",
       "      <td>0</td>\n",
       "      <td>7</td>\n",
       "    </tr>\n",
       "  </tbody>\n",
       "</table>\n",
       "</div>"
      ],
      "text/plain": [
       "col_0       0   1   2   3  4  5\n",
       "Prediction                     \n",
       "0           9   0   0   0  0  0\n",
       "1           0  14   0   0  0  0\n",
       "2           0   0  10   0  0  0\n",
       "3           0   0   0  11  0  0\n",
       "4           1   0   0   0  7  0\n",
       "5           1   0   0   0  0  7"
      ]
     },
     "execution_count": 59,
     "metadata": {},
     "output_type": "execute_result"
    }
   ],
   "source": [
    "pd.crosstab(y_test,pred3)"
   ]
  },
  {
   "cell_type": "code",
   "execution_count": 60,
   "id": "dbe5d5a0",
   "metadata": {},
   "outputs": [
    {
     "name": "stdout",
     "output_type": "stream",
     "text": [
      "              precision    recall  f1-score   support\n",
      "\n",
      "           0       0.82      1.00      0.90         9\n",
      "           1       1.00      1.00      1.00        14\n",
      "           2       1.00      1.00      1.00        10\n",
      "           3       1.00      1.00      1.00        11\n",
      "           4       1.00      0.88      0.93         8\n",
      "           5       1.00      0.88      0.93         8\n",
      "\n",
      "    accuracy                           0.97        60\n",
      "   macro avg       0.97      0.96      0.96        60\n",
      "weighted avg       0.97      0.97      0.97        60\n",
      "\n"
     ]
    }
   ],
   "source": [
    "print(classification_report(y_test,pred3))"
   ]
  }
 ],
 "metadata": {
  "kernelspec": {
   "display_name": "Python 3 (ipykernel)",
   "language": "python",
   "name": "python3"
  },
  "language_info": {
   "codemirror_mode": {
    "name": "ipython",
    "version": 3
   },
   "file_extension": ".py",
   "mimetype": "text/x-python",
   "name": "python",
   "nbconvert_exporter": "python",
   "pygments_lexer": "ipython3",
   "version": "3.9.12"
  }
 },
 "nbformat": 4,
 "nbformat_minor": 5
}
